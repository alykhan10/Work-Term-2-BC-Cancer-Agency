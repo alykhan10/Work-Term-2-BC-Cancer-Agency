{
 "cells": [
  {
   "cell_type": "code",
   "execution_count": null,
   "metadata": {},
   "outputs": [],
   "source": [
    "# Perform UMAP dimensionality reduction\n",
    "reducer = umap.UMAP(random_state=42)\n",
    "feat_embedded = reducer.fit_transform(feat)\n",
    "\n",
    "# Debugging: Check the shapes and lengths of arrays\n",
    "print(f\"feat_embedded shape: {feat_embedded.shape}\")\n",
    "print(f\"Length of filtered_subtype_data: {len(filtered_subtype_data)}\")\n",
    "\n",
    "# Ensure that filtered_subtype_data has the correct length by repeating each subtype 150 times\n",
    "filtered_subtype_data_repeated = np.repeat(filtered_subtype_data, 150)\n",
    "print(f\"Adjusted length of filtered_subtype_data_repeated: {len(filtered_subtype_data_repeated)}\")\n",
    "\n",
    "# Define a custom color palette to ensure fixed colors for each subtype\n",
    "custom_palette = {\n",
    "    'LumP': '#1f77b4',        # Blue\n",
    "    'LumNS': '#ff7f0e',       # Orange\n",
    "    'LumU': '#2ca02c',        # Green\n",
    "    'Stroma-rich': '#d62728', # Red\n",
    "    'Ba/Sq': '#9467bd',       # Purple\n",
    "    'NE-like': '#8c564b'      # Brown\n",
    "}\n",
    "\n",
    "# Visualization\n",
    "fig, ax = plt.subplots(figsize=(12, 8))\n",
    "df = pd.DataFrame({'x': feat_embedded[:, 0], 'y': feat_embedded[:, 1], 'subtype': filtered_subtype_data_repeated})\n",
    "sns.scatterplot(data=df, x=\"x\", y=\"y\", hue='subtype', ax=ax, palette=custom_palette, edgecolor=None)\n",
    "handles, labels = ax.get_legend_handles_labels()\n",
    "\n",
    "# Ensure the legend follows the specified order\n",
    "order = ['LumP', 'LumNS', 'LumU', 'Stroma-rich', 'Ba/Sq', 'NE-like']\n",
    "ordered_handles = [handles[labels.index(subtype)] for subtype in order]\n",
    "ordered_labels = [labels[labels.index(subtype)] for subtype in order]\n",
    "ax.legend(ordered_handles, ordered_labels, title='Subtype:', loc='lower left')\n",
    "\n",
    "# Set the plot title and axis labels\n",
    "struct = f\"{dataset}_{'_'.join(model_list)}_{magnification}\"\n",
    "plt.title('UMAP Visualization (Patch-Level): ' + struct)\n",
    "plt.xlabel('UMAP_1')\n",
    "plt.ylabel('UMAP_2')\n",
    "\n",
    "# Show the plot\n",
    "plt.show()\n",
    "\n",
    "try:\n",
    "    os.makedirs(saving_path, exist_ok=True)\n",
    "except OSError as error:\n",
    "    print(f\"Directory '{saving_path}' cannot be created\")\n",
    "fig.savefig(os.path.join(saving_path, f'scatter_plot_{struct}.png'), dpi=300)\n",
    "print('All is well')"
   ]
  }
 ],
 "metadata": {
  "language_info": {
   "name": "python"
  }
 },
 "nbformat": 4,
 "nbformat_minor": 2
}
